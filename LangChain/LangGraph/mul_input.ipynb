{
 "cells": [
  {
   "cell_type": "markdown",
   "id": "b1fd6576",
   "metadata": {},
   "source": [
    "### Graph2"
   ]
  },
  {
   "cell_type": "code",
   "execution_count": null,
   "id": "f1485f1b",
   "metadata": {},
   "outputs": [],
   "source": [
    "from typing import TypedDict, List\n",
    "from langgraph.graph import StateGraph\n",
    "\n",
    "class AgentState(TypedDict):  # 状态字典\n",
    "    values:List[int]\n",
    "    name:str\n",
    "    result:str\n"
   ]
  },
  {
   "cell_type": "code",
   "execution_count": 21,
   "id": "fc6271fd",
   "metadata": {},
   "outputs": [],
   "source": [
    "def process_values(state: AgentState) -> AgentState:\n",
    "    \"\"\" 处理多个输入的值 \"\"\"\n",
    "    state[\"result\"] = f\"hello,{state[\"name\"]}!,your sum is {sum(state[\"values\"])}\"\n",
    "    return state"
   ]
  },
  {
   "cell_type": "code",
   "execution_count": 22,
   "id": "1e446e8e",
   "metadata": {},
   "outputs": [
    {
     "data": {
      "image/png": "[encoded data removed]",
      "text/plain": [
       "<langgraph.graph.state.CompiledStateGraph object at 0x0000025EEEE64B00>"
      ]
     },
     "execution_count": 22,
     "metadata": {},
     "output_type": "execute_result"
    }
   ],
   "source": [
    "graph = StateGraph(AgentState)\n",
    "graph.add_node(\"processor\", process_values)  # 添加结点\n",
    "graph.set_entry_point(\"processor\")  # 设置起始结点\n",
    "graph.set_finish_point(\"processor\")  # 设置结束结点\n",
    "app = graph.compile()  # 编译图\n",
    "app"
   ]
  },
  {
   "cell_type": "code",
   "execution_count": 25,
   "id": "8034f869",
   "metadata": {},
   "outputs": [
    {
     "data": {
      "text/plain": [
       "{'values': [1, 2, 3, 4], 'name': 'Bob', 'result': 'hello,Bob!,your sum is 10'}"
      ]
     },
     "execution_count": 25,
     "metadata": {},
     "output_type": "execute_result"
    }
   ],
   "source": [
    "res = app.invoke({\"values\":[1,2,3,4], \"name\":\"Bob\"})  # 调用图，传入初始状态\n",
    "res"
   ]
  },
  {
   "cell_type": "code",
   "execution_count": 30,
   "id": "568e6437",
   "metadata": {},
   "outputs": [
    {
     "data": {
      "image/png": "[encoded data removed]",
      "text/plain": [
       "<langgraph.graph.state.CompiledStateGraph object at 0x0000025EEEE60590>"
      ]
     },
     "execution_count": 30,
     "metadata": {},
     "output_type": "execute_result"
    }
   ],
   "source": [
    "class HW_State(TypedDict):\n",
    "    values: List[int]\n",
    "    name: str\n",
    "    operation: str\n",
    "    result: str\n",
    "\n",
    "def process_hw(state: HW_State) -> HW_State:\n",
    "    \"\"\" 处理多个输入的值 \"\"\"\n",
    "    if state[\"operation\"] == \"+\":\n",
    "        state[\"result\"] = f\"Hi {state['name']}, your answer is {sum(state['values'])}\"\n",
    "    elif state[\"operation\"] == \"*\":\n",
    "        res = 1\n",
    "        for value in state[\"values\"]:\n",
    "            res *= value\n",
    "        state[\"result\"] = f\"Hi {state['name']}, your answer is {res}\"\n",
    "    else:\n",
    "        state[\"result\"] = \"Invalid operation\"\n",
    "    return state\n",
    "\n",
    "graph_hw = StateGraph(HW_State)\n",
    "graph_hw.add_node(\"hw_processor\", process_hw)  # 添加结点\n",
    "graph_hw.set_entry_point(\"hw_processor\")  # 设置起始结点\n",
    "graph_hw.set_finish_point(\"hw_processor\")  # 设置结束结点\n",
    "app_hw = graph_hw.compile()  # 编译图\n",
    "app_hw"
   ]
  },
  {
   "cell_type": "code",
   "execution_count": 31,
   "id": "7e0f4e56",
   "metadata": {},
   "outputs": [
    {
     "data": {
      "text/plain": [
       "'Hi Alice, your answer is 6'"
      ]
     },
     "execution_count": 31,
     "metadata": {},
     "output_type": "execute_result"
    }
   ],
   "source": [
    "result_hw = app_hw.invoke({\"values\": [1, 2, 3], \"name\": \"Alice\", \"operation\": \"+\"})  # 调用图，传入初始状态\n",
    "result_hw[\"result\"]  # 返回结果"
   ]
  },
  {
   "cell_type": "code",
   "execution_count": 33,
   "id": "af2f5f7f",
   "metadata": {},
   "outputs": [
    {
     "data": {
      "text/plain": [
       "'Hi Bob, your answer is -192'"
      ]
     },
     "execution_count": 33,
     "metadata": {},
     "output_type": "execute_result"
    }
   ],
   "source": [
    "result_hw = app_hw.invoke({\"values\": [1, -2, 3,32], \"name\": \"Bob\", \"operation\": \"*\"})  # 调用图，传入初始状态\n",
    "result_hw[\"result\"]  # 返回结果"
   ]
  },
  {
   "cell_type": "code",
   "execution_count": null,
   "id": "b7bb4fef",
   "metadata": {},
   "outputs": [],
   "source": []
  }
 ],
 "metadata": {
  "kernelspec": {
   "display_name": "learn_llm",
   "language": "python",
   "name": "python3"
  },
  "language_info": {
   "codemirror_mode": {
    "name": "ipython",
    "version": 3
   },
   "file_extension": ".py",
   "mimetype": "text/x-python",
   "name": "python",
   "nbconvert_exporter": "python",
   "pygments_lexer": "ipython3",
   "version": "3.12.11"
  }
 },
 "nbformat": 4,
 "nbformat_minor": 5
}
