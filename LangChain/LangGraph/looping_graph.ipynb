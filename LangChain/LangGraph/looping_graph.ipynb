{
 "cells": [
  {
   "cell_type": "markdown",
   "id": "5c91b697",
   "metadata": {},
   "source": [
    "### Graph 5 Looping Graph"
   ]
  },
  {
   "cell_type": "code",
   "execution_count": 11,
   "id": "18605991",
   "metadata": {},
   "outputs": [],
   "source": [
    "from typing import TypedDict,List\n",
    "import random \n",
    "from langgraph.graph import StateGraph,START,END"
   ]
  },
  {
   "cell_type": "code",
   "execution_count": null,
   "id": "d70dc558",
   "metadata": {},
   "outputs": [],
   "source": [
    "class AgentState(TypedDict):\n",
    "    name: str\n",
    "    nums: List[int]\n",
    "    counter: int\n",
    "    maxlen: int"
   ]
  },
  {
   "cell_type": "code",
   "execution_count": 19,
   "id": "3ea6b8bd",
   "metadata": {},
   "outputs": [],
   "source": [
    "def initial(state:AgentState)->AgentState:\n",
    "    \"\"\"\"\"\"\n",
    "\n",
    "    state[\"name\"] = f\"hello , {state[\"name\"]}\"\n",
    "    state[\"counter\"]=0\n",
    "    return state\n",
    "\n",
    "def set_random(state:AgentState)->AgentState:\n",
    "    \"\"\"\"\"\"\n",
    "\n",
    "    state[\"nums\"].append(random.randint(0,100))\n",
    "    state[\"counter\"]+=1\n",
    "    return state\n",
    "\n",
    "def rout(state:AgentState)->AgentState:\n",
    "    \"\"\"\"\"\"\n",
    "    if state[\"counter\"]<state[\"maxlen\"]:\n",
    "        print(f\"LOOP {state[\"counter\"]}...\")\n",
    "        return \"LOOP\"\n",
    "    else :\n",
    "        return \"EXIT\""
   ]
  },
  {
   "cell_type": "code",
   "execution_count": 20,
   "id": "2c7d4d78",
   "metadata": {},
   "outputs": [
    {
     "data": {
      "image/png": "[encoded data removed]",
      "text/plain": [
       "<langgraph.graph.state.CompiledStateGraph object at 0x000002535ED554F0>"
      ]
     },
     "execution_count": 20,
     "metadata": {},
     "output_type": "execute_result"
    }
   ],
   "source": [
    "graph = StateGraph(AgentState)\n",
    "graph.add_node(\"initial\",initial)\n",
    "graph.add_node(\"random\",set_random)\n",
    "\n",
    "graph.add_edge(START,\"initial\")\n",
    "graph.add_edge(\"initial\",\"random\")\n",
    "\n",
    "graph.add_conditional_edges(\n",
    "   \"random\",\n",
    "    rout,\n",
    "    {\n",
    "        \"LOOP\":\"random\",\n",
    "        \"EXIT\": END\n",
    "    }\n",
    ")\n",
    "\n",
    "app = graph.compile()\n",
    "app"
   ]
  },
  {
   "cell_type": "code",
   "execution_count": 22,
   "id": "8d8b847d",
   "metadata": {},
   "outputs": [
    {
     "name": "stdout",
     "output_type": "stream",
     "text": [
      "LOOP 1...\n",
      "LOOP 2...\n",
      "LOOP 3...\n",
      "LOOP 4...\n"
     ]
    },
    {
     "data": {
      "text/plain": [
       "{'name': 'hello , LiHao',\n",
       " 'nums': [89, 0, 80, 40, 88],\n",
       " 'counter': 5,\n",
       " 'maxlen': 5}"
      ]
     },
     "execution_count": 22,
     "metadata": {},
     "output_type": "execute_result"
    }
   ],
   "source": [
    "test_state = AgentState(\n",
    "    name = \"LiHao\",\n",
    "    nums=[],\n",
    "    counter=-10,\n",
    "    maxlen=5\n",
    ")\n",
    "res = app.invoke(test_state)\n",
    "res"
   ]
  },
  {
   "cell_type": "code",
   "execution_count": 32,
   "id": "2a188692",
   "metadata": {},
   "outputs": [
    {
     "data": {
      "text/plain": [
       "{'name': 'hello , LiHao',\n",
       " 'nums': [89, 0, 80, 40, 88],\n",
       " 'counter': 5,\n",
       " 'maxlen': 5}"
      ]
     },
     "execution_count": 32,
     "metadata": {},
     "output_type": "execute_result"
    }
   ],
   "source": [
    "res"
   ]
  },
  {
   "cell_type": "code",
   "execution_count": null,
   "id": "276a36a0",
   "metadata": {},
   "outputs": [],
   "source": []
  }
 ],
 "metadata": {
  "kernelspec": {
   "display_name": "learn_llm",
   "language": "python",
   "name": "python3"
  },
  "language_info": {
   "codemirror_mode": {
    "name": "ipython",
    "version": 3
   },
   "file_extension": ".py",
   "mimetype": "text/x-python",
   "name": "python",
   "nbconvert_exporter": "python",
   "pygments_lexer": "ipython3",
   "version": "3.12.11"
  }
 },
 "nbformat": 4,
 "nbformat_minor": 5
}
