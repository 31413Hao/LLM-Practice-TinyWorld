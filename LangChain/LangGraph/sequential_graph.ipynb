{
 "cells": [
  {
   "cell_type": "markdown",
   "id": "66b84d45",
   "metadata": {},
   "source": [
    "### Graph3"
   ]
  },
  {
   "cell_type": "code",
   "execution_count": 31,
   "id": "9e940269",
   "metadata": {},
   "outputs": [],
   "source": [
    "from typing import TypedDict, List\n",
    "from langgraph.graph import StateGraph"
   ]
  },
  {
   "cell_type": "code",
   "execution_count": 32,
   "id": "30aa4ebf",
   "metadata": {},
   "outputs": [],
   "source": [
    "class AgentState(TypedDict):\n",
    "    name: str\n",
    "    age: str\n",
    "    final: str"
   ]
  },
  {
   "cell_type": "code",
   "execution_count": 33,
   "id": "2e9fe9db",
   "metadata": {},
   "outputs": [],
   "source": [
    "def first_func(state:AgentState)->AgentState:\n",
    "    state[\"final\"] = f\"Hi,{state[\"name\"]}\"\n",
    "    \n",
    "    return state\n",
    "\n",
    "def second_func(state:AgentState)->AgentState:\n",
    "    state[\"final\"] = state[\"final\"]+f\" your age is {state[\"age\"]}\"\n",
    "\n",
    "    return state"
   ]
  },
  {
   "cell_type": "code",
   "execution_count": 34,
   "id": "907eb216",
   "metadata": {},
   "outputs": [
    {
     "data": {
      "image/png": "[encoded data removed]",
      "text/plain": [
       "<langgraph.graph.state.CompiledStateGraph object at 0x000001E03697D190>"
      ]
     },
     "execution_count": 34,
     "metadata": {},
     "output_type": "execute_result"
    }
   ],
   "source": [
    "graph = StateGraph(AgentState)\n",
    "graph.add_node(\"first\",first_func)\n",
    "graph.add_node(\"second\",second_func)\n",
    "graph.set_entry_point(\"first\")\n",
    "graph.set_finish_point(\"second\")\n",
    "graph.add_edge(\"first\",\"second\")\n",
    "app = graph.compile()\n",
    "app"
   ]
  },
  {
   "cell_type": "code",
   "execution_count": 35,
   "id": "5acf7995",
   "metadata": {},
   "outputs": [
    {
     "data": {
      "text/plain": [
       "'Hi,Bob your age is 18'"
      ]
     },
     "execution_count": 35,
     "metadata": {},
     "output_type": "execute_result"
    }
   ],
   "source": [
    "res = app.invoke({\"name\":\"Bob\",\"age\":18})\n",
    "res[\"final\"]"
   ]
  },
  {
   "cell_type": "markdown",
   "id": "f678330c",
   "metadata": {},
   "source": [
    "### Graph3 HW"
   ]
  },
  {
   "cell_type": "code",
   "execution_count": 36,
   "id": "12a471ea",
   "metadata": {},
   "outputs": [],
   "source": [
    "class HW_State(TypedDict):\n",
    "    name:str\n",
    "    age:int\n",
    "    skills:List[str]\n",
    "    result:str"
   ]
  },
  {
   "cell_type": "code",
   "execution_count": 41,
   "id": "352073d5",
   "metadata": {},
   "outputs": [],
   "source": [
    "def first_node(state:HW_State)->HW_State:\n",
    "    \"\"\"\"\"\"\n",
    "    state[\"result\"] = f\"{state[\"name\"]},welcome to the system!\"\n",
    "    return state\n",
    "\n",
    "def second_node(state:HW_State)->HW_State:\n",
    "    \"\"\"\"\"\"\n",
    "    state[\"result\"] = state[\"result\"] + f\"You are {state[\"age\"]} years old!\"\n",
    "    return state\n",
    "\n",
    "def third_node(state:HW_State)->HW_State:\n",
    "    \"\"\"\"\"\"\n",
    "    state[\"result\"] = state[\"result\"] + f\"You have skill in:{\",\".join(state[\"skills\"])}\"\n",
    "    return state"
   ]
  },
  {
   "cell_type": "code",
   "execution_count": 42,
   "id": "ef95e1c6",
   "metadata": {},
   "outputs": [
    {
     "data": {
      "image/png": "[encoded data removed]",
      "text/plain": [
       "<langgraph.graph.state.CompiledStateGraph object at 0x000001E036703380>"
      ]
     },
     "execution_count": 42,
     "metadata": {},
     "output_type": "execute_result"
    }
   ],
   "source": [
    "graph = StateGraph(HW_State)\n",
    "graph.add_node(\"first\",first_node)\n",
    "graph.add_node(\"second\",second_node)\n",
    "graph.add_node(\"third\",third_node)\n",
    "graph.add_edge(\"first\",\"second\")\n",
    "graph.add_edge(\"second\",\"third\")\n",
    "graph.set_entry_point(\"first\")\n",
    "graph.set_finish_point(\"third\")\n",
    "app = graph.compile()\n",
    "app"
   ]
  },
  {
   "cell_type": "code",
   "execution_count": 43,
   "id": "0361b2bf",
   "metadata": {},
   "outputs": [
    {
     "data": {
      "text/plain": [
       "{'name': 'Bob',\n",
       " 'age': 10,\n",
       " 'skills': ['table tennis', 'runnning', 'game'],\n",
       " 'result': 'Bob,welcome to the system!You are 10 years old!You have skill in:table tennis,runnning,game'}"
      ]
     },
     "execution_count": 43,
     "metadata": {},
     "output_type": "execute_result"
    }
   ],
   "source": [
    "res = app.invoke({\"name\":\"Bob\",\"age\":10,\"skills\":[\"table tennis\",\"runnning\",\"game\"]})\n",
    "res"
   ]
  },
  {
   "cell_type": "code",
   "execution_count": 44,
   "id": "4563ee4c",
   "metadata": {},
   "outputs": [
    {
     "data": {
      "text/plain": [
       "'Bob,welcome to the system!You are 10 years old!You have skill in:table tennis,runnning,game'"
      ]
     },
     "execution_count": 44,
     "metadata": {},
     "output_type": "execute_result"
    }
   ],
   "source": [
    "res[\"result\"]"
   ]
  },
  {
   "cell_type": "code",
   "execution_count": null,
   "id": "67cc12f1",
   "metadata": {},
   "outputs": [],
   "source": []
  }
 ],
 "metadata": {
  "kernelspec": {
   "display_name": "learn_llm",
   "language": "python",
   "name": "python3"
  },
  "language_info": {
   "codemirror_mode": {
    "name": "ipython",
    "version": 3
   },
   "file_extension": ".py",
   "mimetype": "text/x-python",
   "name": "python",
   "nbconvert_exporter": "python",
   "pygments_lexer": "ipython3",
   "version": "3.12.11"
  }
 },
 "nbformat": 4,
 "nbformat_minor": 5
}
