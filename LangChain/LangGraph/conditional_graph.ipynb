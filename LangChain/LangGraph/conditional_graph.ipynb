{
 "cells": [
  {
   "cell_type": "markdown",
   "id": "5bd26ae9",
   "metadata": {},
   "source": [
    "### Graph 4 conditional Graph\n"
   ]
  },
  {
   "cell_type": "code",
   "execution_count": 23,
   "id": "f38b7ec6",
   "metadata": {},
   "outputs": [],
   "source": [
    "from typing import TypedDict\n",
    "from langgraph.graph import END,START,StateGraph"
   ]
  },
  {
   "cell_type": "code",
   "execution_count": 24,
   "id": "e604f47e",
   "metadata": {},
   "outputs": [],
   "source": [
    "class AgentState(TypedDict):\n",
    "    number_1:int\n",
    "    operation:str\n",
    "    number_2:int\n",
    "    final_number:int"
   ]
  },
  {
   "cell_type": "code",
   "execution_count": 25,
   "id": "e4897622",
   "metadata": {},
   "outputs": [],
   "source": [
    "def add_func(state:AgentState)->AgentState:\n",
    "    \"\"\"\"\"\"\n",
    "\n",
    "    state[\"final_number\"] = state[\"number_1\"]+state[\"number_2\"]\n",
    "    return state\n",
    "\n",
    "def minus_func(state:AgentState)->AgentState:\n",
    "    \"\"\"\"\"\"\n",
    "\n",
    "    state[\"final_number\"] = state[\"number_1\"]-state[\"number_2\"]\n",
    "    return state\n",
    "\n",
    "def router_func(state:AgentState)->AgentState:\n",
    "    \"\"\"\"\"\"\n",
    "    \n",
    "    if state[\"operation\"]==\"+\":\n",
    "        return \"add_edge\"\n",
    "    elif state[\"operation\"]==\"-\":\n",
    "        return \"minus_edge\""
   ]
  },
  {
   "cell_type": "code",
   "execution_count": 26,
   "id": "11f22278",
   "metadata": {},
   "outputs": [
    {
     "data": {
      "text/plain": [
       "<langgraph.graph.state.StateGraph at 0x20fcc1858b0>"
      ]
     },
     "execution_count": 26,
     "metadata": {},
     "output_type": "execute_result"
    }
   ],
   "source": [
    "graph = StateGraph(AgentState)\n",
    "graph.add_node(\"add_node\",add_func)\n",
    "graph.add_node(\"minus_node\",minus_func)\n",
    "# 不能直接router_func，node需要输入输出都是state\n",
    "# graph.add_node(\"router\",router_func)\n",
    "graph.add_node(\"router\",lambda state:state)\n",
    "\n",
    "graph.add_edge(START,\"router\")\n",
    "\n",
    "graph.add_conditional_edges(\n",
    "    # 源点\n",
    "    \"router\",\n",
    "    # 转移函数\n",
    "    router_func,\n",
    "\n",
    "    {\n",
    "        # 添加条件转移边 Edge:Node\n",
    "        \"add_edge\":\"add_node\",\n",
    "        \"minus_edge\":\"minus_node\"\n",
    "    }\n",
    "    \n",
    ")\n",
    "\n",
    "# langgraph特性，如果有node执行结束后没有指向新的node，就自动指向end\n",
    "# 所以下面两行代码写不写效果都是一样的\n",
    "graph.add_edge(\"add_node\",END)\n",
    "graph.add_edge(\"minus_node\",END)"
   ]
  },
  {
   "cell_type": "code",
   "execution_count": 27,
   "id": "cbd61ce6",
   "metadata": {},
   "outputs": [
    {
     "data": {
      "image/png": "[encoded data removed]",
      "text/plain": [
       "<langgraph.graph.state.CompiledStateGraph object at 0x0000020FCD80E5A0>"
      ]
     },
     "execution_count": 27,
     "metadata": {},
     "output_type": "execute_result"
    }
   ],
   "source": [
    "app = graph.compile()\n",
    "app"
   ]
  },
  {
   "cell_type": "code",
   "execution_count": 33,
   "id": "f7cb8b98",
   "metadata": {},
   "outputs": [
    {
     "data": {
      "text/plain": [
       "19"
      ]
     },
     "execution_count": 33,
     "metadata": {},
     "output_type": "execute_result"
    }
   ],
   "source": [
    "test_state = AgentState(\n",
    "    number_1=10,\n",
    "    operation=\"+\",\n",
    "    number_2=9\n",
    ")\n",
    "result = app.invoke(test_state)\n",
    "# invoke不会改变test_state的原有状态，只是会生成一个复印件\n",
    "# test_state[\"final_number\"]\n",
    "result[\"final_number\"]"
   ]
  },
  {
   "cell_type": "code",
   "execution_count": 54,
   "id": "9507db3a",
   "metadata": {},
   "outputs": [],
   "source": [
    "class HW_State(TypedDict):\n",
    "    num_1:int\n",
    "    operation_1:str\n",
    "    num_2:int\n",
    "    res_1:int\n",
    "\n",
    "    num_3:int\n",
    "    num_4:int\n",
    "    operation_2:str\n",
    "    res_2:int"
   ]
  },
  {
   "cell_type": "code",
   "execution_count": 55,
   "id": "d51009b5",
   "metadata": {},
   "outputs": [],
   "source": [
    "def hw_rout_1(state:HW_State):\n",
    "    \"\"\"\"\"\"\n",
    "    if state[\"operation_1\"]==\"+\":\n",
    "        return \"hw_add_operation_1\"\n",
    "    elif state[\"operation_1\"]==\"-\":\n",
    "        return \"hw_minus_operation_1\"\n",
    "\n",
    "def hw_add_func_1(state:HW_State):\n",
    "    \"\"\"\"\"\"\n",
    "    state[\"res_1\"] = state[\"num_1\"]+state[\"num_2\"]\n",
    "    return state\n",
    "\n",
    "def hw_minus_func_1(state:HW_State):\n",
    "    \"\"\"\"\"\"\n",
    "    state[\"res_1\"] = state[\"num_1\"]-state[\"num_2\"]\n",
    "    return state\n",
    "\n",
    "def hw_rout_2(state:HW_State):\n",
    "    \"\"\"\"\"\"\n",
    "    if state[\"operation_2\"]==\"+\":\n",
    "        return \"hw_add_operation_2\"\n",
    "    elif state[\"operation_2\"]==\"-\":\n",
    "        return \"hw_minus_operation_2\"\n",
    "    \n",
    "def hw_add_func_2(state:HW_State):\n",
    "    \"\"\"\"\"\"\n",
    "    state[\"res_2\"] = state[\"num_3\"]+state[\"num_4\"]\n",
    "    return state\n",
    "\n",
    "def hw_minus_func_2(state:HW_State):\n",
    "    \"\"\"\"\"\"\n",
    "    state[\"res_2\"] = state[\"num_3\"]-state[\"num_4\"]\n",
    "    return state\n"
   ]
  },
  {
   "cell_type": "code",
   "execution_count": 68,
   "id": "805e94a3",
   "metadata": {},
   "outputs": [
    {
     "data": {
      "text/plain": [
       "<langgraph.graph.state.StateGraph at 0x20fcf456a50>"
      ]
     },
     "execution_count": 68,
     "metadata": {},
     "output_type": "execute_result"
    }
   ],
   "source": [
    "# 初始化图最好放在后面设计图一起，不然会重复构建图报错\n",
    "hw_graph = StateGraph(HW_State)\n",
    "\n",
    "hw_graph.add_node(\"hw_router_1\",lambda state:state)\n",
    "\n",
    "hw_graph.add_node(\"hw_addnode_1\",hw_add_func_1)\n",
    "hw_graph.add_node(\"hw_minusnode_1\",hw_minus_func_1)\n",
    "\n",
    "hw_graph.add_node(\"hw_router_2\",lambda state:state)\n",
    "\n",
    "hw_graph.add_node(\"hw_addnode_2\",hw_add_func_2)\n",
    "hw_graph.add_node(\"hw_minusnode_2\",hw_minus_func_2)"
   ]
  },
  {
   "cell_type": "code",
   "execution_count": 69,
   "id": "4bacb24a",
   "metadata": {},
   "outputs": [
    {
     "data": {
      "text/plain": [
       "<langgraph.graph.state.StateGraph at 0x20fcf456a50>"
      ]
     },
     "execution_count": 69,
     "metadata": {},
     "output_type": "execute_result"
    }
   ],
   "source": [
    "hw_graph.add_edge(START,\"hw_router_1\")\n",
    "\n",
    "hw_graph.add_edge(\"hw_addnode_1\",\"hw_router_2\")\n",
    "hw_graph.add_edge(\"hw_minusnode_1\",\"hw_router_2\")\n",
    "\n",
    "hw_graph.add_conditional_edges(\n",
    "    \"hw_router_1\",\n",
    "    hw_rout_1,\n",
    "    {\n",
    "        \"hw_add_operation_1\":\"hw_addnode_1\",\n",
    "        \"hw_minus_operation_1\":\"hw_minusnode_1\"\n",
    "    }\n",
    ")\n",
    "\n",
    "hw_graph.add_conditional_edges(\n",
    "    \"hw_router_2\",\n",
    "    hw_rout_2,\n",
    "    {\n",
    "        \"hw_add_operation_2\":\"hw_addnode_2\",\n",
    "        \"hw_minus_operation_2\":\"hw_minusnode_2\"\n",
    "    }\n",
    ")"
   ]
  },
  {
   "cell_type": "code",
   "execution_count": 70,
   "id": "690ceabb",
   "metadata": {},
   "outputs": [
    {
     "data": {
      "image/png": "[encoded data removed]",
      "text/plain": [
       "<langgraph.graph.state.CompiledStateGraph object at 0x0000020FCF4571A0>"
      ]
     },
     "execution_count": 70,
     "metadata": {},
     "output_type": "execute_result"
    }
   ],
   "source": [
    "hw_app = hw_graph.compile()\n",
    "hw_app"
   ]
  },
  {
   "cell_type": "code",
   "execution_count": 72,
   "id": "8f1314f8",
   "metadata": {},
   "outputs": [],
   "source": [
    "hw_test_state = HW_State(\n",
    "    num_1=10,\n",
    "    num_2=20,\n",
    "    num_3=30,\n",
    "    num_4=40,\n",
    "    operation_1=\"+\",\n",
    "    operation_2=\"-\"\n",
    ")\n",
    "hw_test = hw_app.invoke(hw_test_state)"
   ]
  },
  {
   "cell_type": "code",
   "execution_count": 73,
   "id": "281f12ce",
   "metadata": {},
   "outputs": [
    {
     "data": {
      "text/plain": [
       "{'num_1': 10,\n",
       " 'operation_1': '+',\n",
       " 'num_2': 20,\n",
       " 'res_1': 30,\n",
       " 'num_3': 30,\n",
       " 'num_4': 40,\n",
       " 'operation_2': '-',\n",
       " 'res_2': -10}"
      ]
     },
     "execution_count": 73,
     "metadata": {},
     "output_type": "execute_result"
    }
   ],
   "source": [
    "hw_test"
   ]
  },
  {
   "cell_type": "code",
   "execution_count": 75,
   "id": "a4d5fbf8",
   "metadata": {},
   "outputs": [
    {
     "data": {
      "text/plain": [
       "30"
      ]
     },
     "execution_count": 75,
     "metadata": {},
     "output_type": "execute_result"
    }
   ],
   "source": [
    "hw_test[\"res_1\"]"
   ]
  },
  {
   "cell_type": "code",
   "execution_count": 76,
   "id": "18b256c8",
   "metadata": {},
   "outputs": [
    {
     "data": {
      "text/plain": [
       "-10"
      ]
     },
     "execution_count": 76,
     "metadata": {},
     "output_type": "execute_result"
    }
   ],
   "source": [
    "hw_test[\"res_2\"]"
   ]
  },
  {
   "cell_type": "code",
   "execution_count": null,
   "id": "e6cdceae",
   "metadata": {},
   "outputs": [],
   "source": []
  }
 ],
 "metadata": {
  "kernelspec": {
   "display_name": "learn_llm",
   "language": "python",
   "name": "python3"
  },
  "language_info": {
   "codemirror_mode": {
    "name": "ipython",
    "version": 3
   },
   "file_extension": ".py",
   "mimetype": "text/x-python",
   "name": "python",
   "nbconvert_exporter": "python",
   "pygments_lexer": "ipython3",
   "version": "3.12.11"
  }
 },
 "nbformat": 4,
 "nbformat_minor": 5
}
