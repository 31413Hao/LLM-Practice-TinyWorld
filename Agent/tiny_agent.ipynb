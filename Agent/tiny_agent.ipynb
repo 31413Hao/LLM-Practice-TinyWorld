{
 "cells": [
  {
   "cell_type": "markdown",
   "id": "60fc1f4d",
   "metadata": {},
   "source": [
    "## 构建一个简单的小型agent\n"
   ]
  },
  {
   "cell_type": "markdown",
   "id": "d1faac82",
   "metadata": {},
   "source": [
    "### 初始化客户端和模型"
   ]
  },
  {
   "cell_type": "code",
   "execution_count": 13,
   "id": "5335596a",
   "metadata": {},
   "outputs": [],
   "source": [
    "from zhipuai import ZhipuAI\n",
    "from dotenv import load_dotenv\n",
    "import os\n",
    "\n",
    "load_dotenv()\n",
    "\n",
    "API_KEY = os.getenv(\"API_KEY\")\n",
    "model_name = os.getenv(\"llm_model\")"
   ]
  },
  {
   "cell_type": "markdown",
   "id": "6d3220b2",
   "metadata": {},
   "source": [
    "#### 定义工具函数:src/tools.py\n",
    "其中定义了给llm使用的函数接口，每个函数都要有清晰的文档字符串用于生成json"
   ]
  },
  {
   "cell_type": "markdown",
   "id": "81bc2844",
   "metadata": {},
   "source": [
    "#### 定义JSON转换:src/utils.py\n",
    "将py函数代码转换为特定的json格式给大模型垃圾\n"
   ]
  },
  {
   "cell_type": "markdown",
   "id": "337d98cd",
   "metadata": {},
   "source": [
    "#### 构造agent类：src/core.py\n",
    "负责管理对话历史、调用 LLM API、处理工具调用请求以及执行工具函数。"
   ]
  },
  {
   "cell_type": "code",
   "execution_count": null,
   "id": "23720937",
   "metadata": {},
   "outputs": [],
   "source": [
    "from src.core import Agent\n",
    "from src.tools import add, count_letter_in_string, compare, get_current_datetime, search_wikipedia, get_current_temperature"
   ]
  },
  {
   "cell_type": "code",
   "execution_count": null,
   "id": "f645c4b0",
   "metadata": {},
   "outputs": [],
   "source": [
    "if __name__ == \"__main__\":\n",
    "    client = ZhipuAI(api_key  = API_KEY)\n",
    "    agent = Agent(client=client,model=model_name,tools=[get_current_datetime, search_wikipedia, get_current_temperature])\n",
    "    while True:\n",
    "    # 使用彩色输出区分用户输入和AI回答\n",
    "        prompt = input(\"\\033[94mUser: \\033[0m\")  # 蓝色显示用户输入提示\n",
    "        if prompt == \"exit\":\n",
    "            break\n",
    "        response = agent.get_completion(prompt)\n",
    "        print(\"\\033[92mAssistant: \\033[0m\", response)  # 绿色显示AI助手回答"
   ]
  },
  {
   "cell_type": "code",
   "execution_count": null,
   "id": "df9f8561",
   "metadata": {},
   "outputs": [],
   "source": []
  }
 ],
 "metadata": {
  "kernelspec": {
   "display_name": "learn_llm",
   "language": "python",
   "name": "python3"
  },
  "language_info": {
   "codemirror_mode": {
    "name": "ipython",
    "version": 3
   },
   "file_extension": ".py",
   "mimetype": "text/x-python",
   "name": "python",
   "nbconvert_exporter": "python",
   "pygments_lexer": "ipython3",
   "version": "3.12.11"
  }
 },
 "nbformat": 4,
 "nbformat_minor": 5
}
