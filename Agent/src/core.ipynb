{
 "cells": [
  {
   "cell_type": "code",
   "execution_count": 7,
   "id": "4c0e544f",
   "metadata": {},
   "outputs": [],
   "source": [
    "from zhipuai import ZhipuAI\n",
    "import json \n",
    "from typing import List, Dict, Any\n",
    "from utils import function_to_json\n",
    "from tools import get_current_datetime, add, compare, count_letter_in_string, search_wikipedia, get_current_temperature\n",
    "import pprint"
   ]
  },
  {
   "cell_type": "code",
   "execution_count": null,
   "id": "14997dde",
   "metadata": {},
   "outputs": [],
   "source": [
    "SYSTEM_PROMPT = \"\"\"\n",
    "你是一个叫python高手的人工智能助手。你的输出应该与用户的语言保持一致。\n",
    "当用户的问题需要调用工具时，你可以从提供的工具列表中调用适当的工具函数。\n",
    "\"\"\""
   ]
  },
  {
   "cell_type": "code",
   "execution_count": null,
   "id": "c06cea9f",
   "metadata": {},
   "outputs": [],
   "source": [
    "class Agent:\n",
    "    def __init__(self, client: ZhipuAI, model:str=\"glm-4\",tools:List=[],verbose:bool=True):\n",
    "        self.client = client\n",
    "        self.model = model\n",
    "        self.tools = tools\n",
    "        self.verbose = verbose\n",
    "        self.messages = [\n",
    "            {\"role\": \"system\", \"content\": SYSTEM_PROMPT}\n",
    "        ]\n",
    "\n",
    "    def get_tool_schema(self) -> List[Dict[str, Any]]:\n",
    "        \"\"\"\n",
    "        获取工具的JSON Schema格式\n",
    "        \"\"\"\n",
    "        return [function_to_json(tool) for tool in self.tools]\n",
    "    \n",
    "    # tool_call是大模型返回的调用工具的请求\n",
    "    def handle_tool_call(self,tool_call):\n",
    "        function_name = tool_call.function.name\n",
    "        function_args = tool_call.function.arguments\n",
    "        function_id = tool_call.id\n",
    "\n",
    "        # eval是执行一个字符串表达式的函数\n",
    "        # **是解包一个字典序为函数参数\n",
    "        function_call_content = eval(f\"{function_name}(**{function_args})\")\n",
    "\n",
    "        return {\n",
    "            \"role\":\"tool\",\n",
    "            \"conten\": function_call_content,\n",
    "            \"tool_call_id\": function_id,\n",
    "        }\n",
    "    \n",
    "    # \n",
    "    def get_completion(self,prompt)->str:\n",
    "        self.messages.append({\"role\": \"user\", \"content\": prompt})\n",
    "\n",
    "        response = self.client.chat.completions.create(\n",
    "            model=self.model,\n",
    "            messages=self.messages,\n",
    "            tools=self.get_tool_schema(),\n",
    "            stream=False,\n",
    "        )\n",
    "        if response.choices[0].message.tool_calls:\n",
    "            self.messages.append({\"role\": \"assistant\", \"content\": response.choices[0].message.content})\n",
    "            tool_list = []\n",
    "            for tool_call in response.choices[0].message.tool_calls:\n",
    "                self.messages.append(self.handle_tool_call(tool_call))\n",
    "                tool_list.append([tool_call.function.name, tool_call.function.arguments])\n",
    "            if self.verbose:\n",
    "                print(\"调用工具:\", response.choices[0].message.content,tool_list)\n",
    "            response = self.client.chat.completions.create(\n",
    "                model=self.model,\n",
    "                messages=self.messages,\n",
    "                tools=self.get_tool_schema(),\n",
    "                stream=False,\n",
    "            )\n",
    "        self.messages.append({\"role\": \"assistant\", \"content\": response.choices[0].message.content})\n",
    "        return response.choices[0].message.content"
   ]
  }
 ],
 "metadata": {
  "kernelspec": {
   "display_name": "learn_llm",
   "language": "python",
   "name": "python3"
  },
  "language_info": {
   "codemirror_mode": {
    "name": "ipython",
    "version": 3
   },
   "file_extension": ".py",
   "mimetype": "text/x-python",
   "name": "python",
   "nbconvert_exporter": "python",
   "pygments_lexer": "ipython3",
   "version": "3.12.11"
  }
 },
 "nbformat": 4,
 "nbformat_minor": 5
}
